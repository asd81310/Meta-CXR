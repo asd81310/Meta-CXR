{
 "cells": [
  {
   "cell_type": "code",
   "execution_count": null,
   "id": "90a21211",
   "metadata": {},
   "outputs": [],
   "source": [
    "import tensorflow as tf\n",
    "import numpy as np\n",
    "import os\n",
    "import os.path\n",
    "import sys\n",
    "import matplotlib.pyplot as plt\n",
    "import cv2\n",
    "from tensorflow import one_hot"
   ]
  },
  {
   "cell_type": "code",
   "execution_count": null,
   "id": "05088ab7",
   "metadata": {},
   "outputs": [],
   "source": [
    "# load model\n",
    "generator = tf.keras.models.load_model('mimic_gen/model0')\n",
    "\n",
    "realdata_list = ['Cardiomegaly', 'Consolidation', 'Edema', 'No Finding', 'Pleural Effusion']\n",
    "\n",
    "disease_dict = {}\n",
    "for i in range(len(realdata_list)):\n",
    "    disease_dict[realdata_list[i]] = np.array(one_hot([i],depth = 5))        "
   ]
  },
  {
   "cell_type": "code",
   "execution_count": null,
   "id": "dbed01dc",
   "metadata": {},
   "outputs": [],
   "source": [
    "def generate_fake(namelist):\n",
    "    name = ''\n",
    "    label = np.array([[0,0,0,0,0]]).astype(np.float32)\n",
    "    for i in namelist:\n",
    "        name += i\n",
    "        label += disease_dict[i]\n",
    "    if not os.path.exists(\"fake_dataset/\" + name):\n",
    "        os.mkdir(\"fake_dataset/\" + name)\n",
    "        \n",
    "    for j in range(1000):\n",
    "        x_input = np.random.randn(100)\n",
    "        result = generator((x_input[np.newaxis],label))\n",
    "        c = np.array(result[0]*127.5 +127.5)\n",
    "        cv2.imwrite('fake_dataset/' +name+ '/'+str(j) +'.JPEG',c)"
   ]
  },
  {
   "cell_type": "code",
   "execution_count": null,
   "id": "ca721fa4",
   "metadata": {},
   "outputs": [],
   "source": [
    "# generate pseudo-class CXR\n",
    "generate_fake(['Cardiomegaly'])"
   ]
  }
 ],
 "metadata": {
  "kernelspec": {
   "display_name": "Python [conda env:tf2]",
   "language": "python",
   "name": "conda-env-tf2-py"
  },
  "language_info": {
   "codemirror_mode": {
    "name": "ipython",
    "version": 3
   },
   "file_extension": ".py",
   "mimetype": "text/x-python",
   "name": "python",
   "nbconvert_exporter": "python",
   "pygments_lexer": "ipython3",
   "version": "3.8.12"
  }
 },
 "nbformat": 4,
 "nbformat_minor": 5
}
