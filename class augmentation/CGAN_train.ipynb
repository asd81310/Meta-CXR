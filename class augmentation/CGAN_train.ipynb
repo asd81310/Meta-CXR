{
 "cells": [
  {
   "cell_type": "code",
   "execution_count": 1,
   "id": "74af0309",
   "metadata": {},
   "outputs": [],
   "source": [
    "import tensorflow as tf\n",
    "import numpy as np\n",
    "import os\n",
    "import os.path\n",
    "import sys"
   ]
  },
  {
   "cell_type": "code",
   "execution_count": 2,
   "id": "b8c0dbe4",
   "metadata": {},
   "outputs": [
    {
     "name": "stdout",
     "output_type": "stream",
     "text": [
      "5\n",
      "Number of batches for the dataset: 173\n"
     ]
    }
   ],
   "source": [
    "# LOAD TRAINING DATA\n",
    "\n",
    "from tools.XRaysDataset2 import XRaysDataset\n",
    "\n",
    "batch_size = 32\n",
    "\n",
    "dataset = XRaysDataset(batch_size=batch_size)\n",
    "train_datasets = dataset.load(separate_classes=False)"
   ]
  },
  {
   "cell_type": "code",
   "execution_count": 3,
   "id": "8bafdcf1",
   "metadata": {},
   "outputs": [],
   "source": [
    "from cGAN import cGAN\n",
    "checkpoint_dir = 'cGAN'\n",
    "out_images_path = 'cGAN/outImages'\n",
    "\n",
    "cGAN = cGAN(checkpoint_dir=checkpoint_dir,\n",
    "                out_images_path=out_images_path,\n",
    "                n_classes = 5,\n",
    "                use_residual=True,n_epochs = 2000)\n",
    "\n",
    "# noise used during training in order to evaluate how the network is learning\n",
    "benchmark_noise = np.random.randn(cGAN.latent_size * cGAN.batch_size)\n",
    "benchmark_noise = benchmark_noise.reshape(cGAN.batch_size, cGAN.latent_size )\n",
    "\n",
    "list1 = []\n",
    "for i in range(128):\n",
    "    list1.append(i%5)\n",
    "np.random.shuffle(list1)\n",
    "benchmark_labels = tf.one_hot(list1, depth=5)"
   ]
  },
  {
   "cell_type": "code",
   "execution_count": null,
   "id": "e34fae80",
   "metadata": {},
   "outputs": [
    {
     "name": "stdout",
     "output_type": "stream",
     "text": [
      "Starting training of the cGAN model.\n",
      "Batches per epoch  173\n",
      "Starting epoch 0 of 2000\n",
      "\tLosses at step 0:\n",
      "\t\tGenerator Loss: 1.0910459756851196\n",
      "\t\tDiscriminator Loss: 1.8544948101043701\n",
      "\t\tAccuracy Real: 0.09375\n",
      "\t\tAccuracy Fake: 0.90625\n",
      "\tLosses at step 10:\n",
      "\t\tGenerator Loss: 0.8150925636291504\n",
      "\t\tDiscriminator Loss: 0.611439049243927\n",
      "\t\tAccuracy Real: 1.0\n",
      "\t\tAccuracy Fake: 1.0\n",
      "\tLosses at step 20:\n",
      "\t\tGenerator Loss: 0.8978878259658813\n",
      "\t\tDiscriminator Loss: 0.5387448072433472\n",
      "\t\tAccuracy Real: 1.0\n",
      "\t\tAccuracy Fake: 1.0\n",
      "\tLosses at step 30:\n",
      "\t\tGenerator Loss: 0.9143053889274597\n",
      "\t\tDiscriminator Loss: 0.6626016497612\n",
      "\t\tAccuracy Real: 1.0\n",
      "\t\tAccuracy Fake: 1.0\n"
     ]
    }
   ],
   "source": [
    "# train model\n",
    "cGAN.train_model(train_datasets, benchmark_noise, benchmark_labels)"
   ]
  },
  {
   "cell_type": "code",
   "execution_count": null,
   "id": "bff59041",
   "metadata": {},
   "outputs": [],
   "source": []
  },
  {
   "cell_type": "code",
   "execution_count": null,
   "id": "7f41755a",
   "metadata": {},
   "outputs": [],
   "source": []
  }
 ],
 "metadata": {
  "kernelspec": {
   "display_name": "Python [conda env:tf2]",
   "language": "python",
   "name": "conda-env-tf2-py"
  },
  "language_info": {
   "codemirror_mode": {
    "name": "ipython",
    "version": 3
   },
   "file_extension": ".py",
   "mimetype": "text/x-python",
   "name": "python",
   "nbconvert_exporter": "python",
   "pygments_lexer": "ipython3",
   "version": "3.8.12"
  }
 },
 "nbformat": 4,
 "nbformat_minor": 5
}
